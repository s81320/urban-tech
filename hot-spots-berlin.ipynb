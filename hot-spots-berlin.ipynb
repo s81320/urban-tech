{
 "cells": [
  {
   "cell_type": "markdown",
   "metadata": {},
   "source": [
    "# In Berlin, find hot spots: locations where accidents cumulate\n"
   ]
  },
  {
   "cell_type": "code",
   "execution_count": 89,
   "metadata": {},
   "outputs": [
    {
     "ename": "ModuleNotFoundError",
     "evalue": "No module named 'geopandas'",
     "output_type": "error",
     "traceback": [
      "\u001b[0;31m---------------------------------------------------------------------------\u001b[0m",
      "\u001b[0;31mModuleNotFoundError\u001b[0m                       Traceback (most recent call last)",
      "\u001b[0;32m<ipython-input-89-bb8d14bddcdc>\u001b[0m in \u001b[0;36m<module>\u001b[0;34m\u001b[0m\n\u001b[1;32m      3\u001b[0m \u001b[0;32mimport\u001b[0m \u001b[0mwarnings\u001b[0m\u001b[0;34m\u001b[0m\u001b[0;34m\u001b[0m\u001b[0m\n\u001b[1;32m      4\u001b[0m \u001b[0;32mimport\u001b[0m \u001b[0mos\u001b[0m\u001b[0;34m\u001b[0m\u001b[0;34m\u001b[0m\u001b[0m\n\u001b[0;32m----> 5\u001b[0;31m \u001b[0;32mimport\u001b[0m \u001b[0mgeopandas\u001b[0m \u001b[0;32mas\u001b[0m \u001b[0mgpd\u001b[0m\u001b[0;34m\u001b[0m\u001b[0;34m\u001b[0m\u001b[0m\n\u001b[0m",
      "\u001b[0;31mModuleNotFoundError\u001b[0m: No module named 'geopandas'"
     ]
    }
   ],
   "source": [
    "import numpy as np\n",
    "import pandas as pd\n",
    "import warnings\n",
    "import os\n",
    "import geopandas as gpd"
   ]
  },
  {
   "cell_type": "code",
   "execution_count": 90,
   "metadata": {},
   "outputs": [],
   "source": [
    "import matplotlib.pyplot as plt\n",
    "plt.style.use('ggplot')\n",
    "import matplotlib\n",
    "#matplotlib.rcParams['lines.linewidth'] = 2\n",
    "#matplotlib.rcParams['savefig.dpi'] = 300\n",
    "#matplotlib.rcParams['figure.figsize'] = [12,6]"
   ]
  },
  {
   "cell_type": "markdown",
   "metadata": {},
   "source": [
    "## read Data, reduce to Berlin"
   ]
  },
  {
   "cell_type": "code",
   "execution_count": 137,
   "metadata": {},
   "outputs": [],
   "source": [
    "acci = pd.read_csv(os.path.join(\"../data\",\"Unfallorte2019_LinRef.txt\"),sep=';', decimal=\",\")\n",
    "acci = acci[acci['ULAND']==11]\n",
    "acci.index = range(len(acci)) # 13,390 rows\n",
    "# acci.head"
   ]
  },
  {
   "cell_type": "code",
   "execution_count": 114,
   "metadata": {},
   "outputs": [
    {
     "data": {
      "text/plain": [
       "Index(['OBJECTID', 'ULAND', 'UREGBEZ', 'UKREIS', 'UGEMEINDE', 'UJAHR',\n",
       "       'UMONAT', 'USTUNDE', 'UWOCHENTAG', 'UKATEGORIE', 'UART', 'UTYP1',\n",
       "       'ULICHTVERH', 'IstRad', 'IstPKW', 'IstFuss', 'IstKrad', 'IstGkfz',\n",
       "       'IstSonstige', 'LINREFX', 'LINREFY', 'XGCSWGS84', 'YGCSWGS84',\n",
       "       'STRZUSTAND'],\n",
       "      dtype='object')"
      ]
     },
     "execution_count": 114,
     "metadata": {},
     "output_type": "execute_result"
    }
   ],
   "source": [
    "acci.columns\n"
   ]
  },
  {
   "cell_type": "code",
   "execution_count": 138,
   "metadata": {},
   "outputs": [
    {
     "name": "stdout",
     "output_type": "stream",
     "text": [
      "13.09684420700006 13.74096105500007 52.36793148800007 52.66014629400007\n"
     ]
    }
   ],
   "source": [
    "l = np.min(acci['XGCSWGS84'])\n",
    "r = np.max(acci['XGCSWGS84'])\n",
    "b = np.min(acci['YGCSWGS84'])\n",
    "t = np.max(acci['YGCSWGS84'])\n",
    "print(l,r,b,t)"
   ]
  },
  {
   "cell_type": "code",
   "execution_count": 116,
   "metadata": {},
   "outputs": [
    {
     "name": "stdout",
     "output_type": "stream",
     "text": [
      "13.09684420700006 13.74096105500007 52.36793148800007 52.66014629400007\n"
     ]
    }
   ],
   "source": [
    "print(l,r,b,t)"
   ]
  },
  {
   "cell_type": "code",
   "execution_count": 117,
   "metadata": {},
   "outputs": [],
   "source": [
    "s1 = list(set(acci['XGCSWGS84']))\n",
    "s1 = np.sort(s1)\n",
    "le=len(s1)\n",
    "le, len(s1[1:]), len(s1[:le-1])\n",
    "resolution_x = min([s1[i+1]-s1[i] for i in range(le-1)])\n",
    "\n",
    "s1 = list(set(acci['YGCSWGS84']))\n",
    "s1 = np.sort(s1)\n",
    "le=len(s1)\n",
    "le, len(s1[1:]), len(s1[:le-1])\n",
    "resolution_y = min([s1[i+1]-s1[i] for i in range(le-1)])\n"
   ]
  },
  {
   "cell_type": "markdown",
   "metadata": {},
   "source": [
    "The way i did it here, what I calculate as resolution is smaller than the actual minimal distance between actual accidents. Because I first project all x-values on a line and compare them without their y-values. so close x values need not belong to close points (x,y) - the y values may be totally different / indicate a large distance."
   ]
  },
  {
   "cell_type": "code",
   "execution_count": 96,
   "metadata": {},
   "outputs": [
    {
     "data": {
      "text/plain": [
       "(9.999876482424952e-10, 9.99982319171977e-10)"
      ]
     },
     "execution_count": 96,
     "metadata": {},
     "output_type": "execute_result"
    }
   ],
   "source": [
    "resolution_x , resolution_y"
   ]
  },
  {
   "cell_type": "code",
   "execution_count": 97,
   "metadata": {},
   "outputs": [
    {
     "data": {
      "text/plain": [
       "[<matplotlib.lines.Line2D at 0x11f84a340>]"
      ]
     },
     "execution_count": 97,
     "metadata": {},
     "output_type": "execute_result"
    },
    {
     "data": {
      "image/png": "[encoded data removed]",
      "text/plain": [
       "<Figure size 432x288 with 1 Axes>"
      ]
     },
     "metadata": {},
     "output_type": "display_data"
    }
   ],
   "source": [
    "plt.plot(range(le),s1)"
   ]
  },
  {
   "cell_type": "code",
   "execution_count": 139,
   "metadata": {},
   "outputs": [
    {
     "name": "stdout",
     "output_type": "stream",
     "text": [
      "shape:  (645, 293)\n"
     ]
    }
   ],
   "source": [
    "res = 0.001\n",
    "w = int((r-l)/res)+1 # int(0.9) = 0 so it just removes decimal places, a floor operation\n",
    "h = int((t-b)/res)+1\n",
    "mymap = np.zeros(w*h).reshape((w,h))\n",
    "print('shape: ', mymap.shape)"
   ]
  },
  {
   "cell_type": "code",
   "execution_count": 140,
   "metadata": {},
   "outputs": [
    {
     "name": "stdout",
     "output_type": "stream",
     "text": [
      "done\n"
     ]
    }
   ],
   "source": [
    "# import itertools as it\n",
    "# idx = iter(it.product(range(w),range(h))) # useless here, not what I want to do\n",
    "# this could be done directly with zip, no need for itertools?\n",
    "# for q, a in zip(questions, answers):\n",
    "#   print('What is your {0}?  It is {1}.'.format(q, a))\n",
    "\n",
    "#len(acci) # 13,390\n",
    "# acci.iloc[10]['XGCSWGS84']\n",
    "\n",
    "# since the +=1 did not work inside the list comprehension we need to do the incrementing with a function:\n",
    "def incr (ar,i,j): # passing an np.array as ar will be by reference / pointer\n",
    "    ar[i,j]+=1\n",
    "\n",
    "[incr(mymap, int((acci.iloc[i]['XGCSWGS84']-l)/res), int((acci.iloc[i]['YGCSWGS84']-b)/res)) for i in acci.index]\n",
    "print('done')"
   ]
  },
  {
   "cell_type": "code",
   "execution_count": 141,
   "metadata": {},
   "outputs": [
    {
     "data": {
      "image/png": "[encoded data removed]",
      "text/plain": [
       "<Figure size 800x800 with 1 Axes>"
      ]
     },
     "metadata": {},
     "output_type": "display_data"
    }
   ],
   "source": [
    "my_dpi= 12\n",
    "plt.figure(figsize=(800/my_dpi, 800/my_dpi), dpi=my_dpi)\n",
    "plt.imshow(mymap, cmap='hot', interpolation='nearest')\n",
    "plt.axis('off')\n",
    "plt.axis('equal') # or 'scaled' but it's not making a difference\n",
    "#plt.axis('scaled')\n",
    "plt.savefig('berlin-hotspots.png', format='png', metadata={'location':'berlin','content':'accumulated accidents'})\n",
    "plt.show()\n",
    "# remove gridlines, try : plt.axis('off') , plt.grid(b=None)"
   ]
  },
  {
   "cell_type": "code",
   "execution_count": 190,
   "metadata": {},
   "outputs": [],
   "source": [
    "# check resolution and adjust before saving\n",
    "np.savetxt('berlin-map-res-01.csv', mymap.astype(int), fmt='%i' , delimiter=',',newline='\\n')\n",
    "#np.savetxt('berlin-map-res-001.csv', mymap.astype(int), fmt='%i' , delimiter=',',newline='\\n')\n",
    "#np.savetxt('berlin-map-res-0001.csv', mymap.astype(int), fmt='%i' , delimiter=',',newline='\\n')"
   ]
  },
  {
   "cell_type": "code",
   "execution_count": 142,
   "metadata": {},
   "outputs": [
    {
     "data": {
      "text/plain": [
       "20.0"
      ]
     },
     "execution_count": 142,
     "metadata": {},
     "output_type": "execute_result"
    }
   ],
   "source": [
    "# [max(list(mymap[i,:])) for i in range(w-1)] # most cells are empty at resolution 0.0001\n",
    "max([max(list(mymap[i,:])) for i in range(w-1)]) # 9 is the highest number of accidents within one cell at res = 0.0001"
   ]
  },
  {
   "cell_type": "code",
   "execution_count": 145,
   "metadata": {},
   "outputs": [],
   "source": [
    "a1,b1 = np.where(mymap>15)\n",
    "z = zip(a1,b1)\n",
    "location=list(z)\n",
    "#for idx in location:\n",
    "#    print(mymap[idx])"
   ]
  },
  {
   "cell_type": "markdown",
   "metadata": {},
   "source": [
    "Get info where these hotspots are. Get a street name or something!"
   ]
  },
  {
   "cell_type": "code",
   "execution_count": 154,
   "metadata": {},
   "outputs": [],
   "source": [
    "def index2coord (k,m,l=l,b=b):\n",
    "    '''input: k,m \n",
    "    is a cell of a matrix. This cell represents an area in long, lat coordinates. \n",
    "    \n",
    "    output: center of the area represented by the (k,m) matrix cell in long, lat coordinates.'''\n",
    "    #print(k,m,l,b)\n",
    "    return ((k+0.5)*res + l,(m+0.5)*res + b)\n",
    "\n",
    "def coord2index (x,y, l=l, b=b):\n",
    "    return(int((x-l)/res), int((y-b)/res))\n",
    "\n",
    "def index2bb (k,m,l=l,b=b):\n",
    "    '''returns bounding box for the matrix cell, in anti clock wise starting from left (l): l,b,r,t'''\n",
    "    return (l+k*res, b+m*res, l+(k+1)*res, b+(m+1)*res)"
   ]
  },
  {
   "cell_type": "code",
   "execution_count": 125,
   "metadata": {},
   "outputs": [],
   "source": [
    "import requests\n",
    "import json\n",
    "import shutil"
   ]
  },
  {
   "cell_type": "code",
   "execution_count": 161,
   "metadata": {},
   "outputs": [
    {
     "name": "stdout",
     "output_type": "stream",
     "text": [
      "looping through 5 locations.\n"
     ]
    }
   ],
   "source": [
    "API_KEY = '0a094e7075504645b7e1c83113f851e2'\n",
    "\n",
    "hot_spots=pd.DataFrame()\n",
    "\n",
    "print('looping through' , len(location) , 'locations.')\n",
    "\n",
    "for i in range(len(location)):\n",
    "    x,y = index2coord(*location[i])\n",
    "    dict_to_append = {'matrix_index':location[i],'lat':x,'long':y,'accidents':mymap[location[i]]} # start with geo locations\n",
    "    #get addresses / all available address discriptors for the geo locations\n",
    "    req = 'https://nominatim.openstreetmap.org/reverse?format=geojson&lat='+str(y)+'&lon='+str(x)+'&addressdetails=1'\n",
    "    try: \n",
    "        dict_address = requests.get(req).json()['features'][0]['properties']['address']\n",
    "    except:\n",
    "        print('something went wrong getting the address for',i,x,y)\n",
    "    else:\n",
    "        dict_to_append.update(dict_address)\n",
    "        hot_spots = hot_spots.append(dict_to_append,ignore_index=True)\n",
    "        \n",
    "    req='https://maps.geoapify.com/v1/staticmap?style=osm-bright&width=200&height=200&center=lonlat:'+str(x)+','+str(y)+'&zoom=40&apiKey='+str(API_KEY)\n",
    "\n",
    "    img = requests.get(req, stream=True) # stream=True needed for requesting an image\n",
    "    if img.status_code == 200:\n",
    "        # Set decode_content value to True, otherwise the downloaded image file's size will be zero.\n",
    "        img.raw.decode_content = True\n",
    "        # print('location'+str(hot_spots.iloc[i]['matrix_index']))\n",
    "        # Open a local file with wb ( write binary ) permission.\n",
    "        with open('location_small'+str(hot_spots.iloc[i]['matrix_index']),'wb') as f:\n",
    "            shutil.copyfileobj(img.raw, f)        \n",
    "        #print('Image sucessfully downloaded.')\n",
    "    else:\n",
    "        pass\n",
    "        #print('Image Couldn\\'t be retreived')"
   ]
  },
  {
   "cell_type": "code",
   "execution_count": 150,
   "metadata": {
    "scrolled": true
   },
   "outputs": [
    {
     "data": {
      "text/html": [
       "<div>\n",
       "<style scoped>\n",
       "    .dataframe tbody tr th:only-of-type {\n",
       "        vertical-align: middle;\n",
       "    }\n",
       "\n",
       "    .dataframe tbody tr th {\n",
       "        vertical-align: top;\n",
       "    }\n",
       "\n",
       "    .dataframe thead th {\n",
       "        text-align: right;\n",
       "    }\n",
       "</style>\n",
       "<table border=\"1\" class=\"dataframe\">\n",
       "  <thead>\n",
       "    <tr style=\"text-align: right;\">\n",
       "      <th></th>\n",
       "      <th>accidents</th>\n",
       "      <th>borough</th>\n",
       "      <th>country</th>\n",
       "      <th>country_code</th>\n",
       "      <th>lat</th>\n",
       "      <th>long</th>\n",
       "      <th>matrix_index</th>\n",
       "      <th>road</th>\n",
       "      <th>shop</th>\n",
       "      <th>state</th>\n",
       "      <th>suburb</th>\n",
       "      <th>city</th>\n",
       "      <th>district</th>\n",
       "      <th>postcode</th>\n",
       "      <th>house_number</th>\n",
       "      <th>historic</th>\n",
       "    </tr>\n",
       "  </thead>\n",
       "  <tbody>\n",
       "    <tr>\n",
       "      <th>1</th>\n",
       "      <td>20.0</td>\n",
       "      <td>Charlottenburg-Wilmersdorf</td>\n",
       "      <td>Deutschland</td>\n",
       "      <td>de</td>\n",
       "      <td>13.326344</td>\n",
       "      <td>52.538431</td>\n",
       "      <td>(229, 170)</td>\n",
       "      <td>Seestraße</td>\n",
       "      <td>NaN</td>\n",
       "      <td>Berlin</td>\n",
       "      <td>Charlottenburg-Nord</td>\n",
       "      <td>Berlin</td>\n",
       "      <td>Rixdorf</td>\n",
       "      <td>13627</td>\n",
       "      <td>NaN</td>\n",
       "      <td>NaN</td>\n",
       "    </tr>\n",
       "    <tr>\n",
       "      <th>4</th>\n",
       "      <td>16.0</td>\n",
       "      <td>Friedrichshain-Kreuzberg</td>\n",
       "      <td>Deutschland</td>\n",
       "      <td>de</td>\n",
       "      <td>13.446344</td>\n",
       "      <td>52.502431</td>\n",
       "      <td>(349, 134)</td>\n",
       "      <td>Am Oberbaum</td>\n",
       "      <td>NaN</td>\n",
       "      <td>Berlin</td>\n",
       "      <td>Friedrichshain</td>\n",
       "      <td>Berlin</td>\n",
       "      <td>Rixdorf</td>\n",
       "      <td>10243</td>\n",
       "      <td>NaN</td>\n",
       "      <td>Oberbaumbrücke</td>\n",
       "    </tr>\n",
       "    <tr>\n",
       "      <th>2</th>\n",
       "      <td>17.0</td>\n",
       "      <td>Mitte</td>\n",
       "      <td>Deutschland</td>\n",
       "      <td>de</td>\n",
       "      <td>13.368344</td>\n",
       "      <td>52.541431</td>\n",
       "      <td>(271, 173)</td>\n",
       "      <td>Müllerstraße</td>\n",
       "      <td>NaN</td>\n",
       "      <td>Berlin</td>\n",
       "      <td>Wedding</td>\n",
       "      <td>Berlin</td>\n",
       "      <td>Rixdorf</td>\n",
       "      <td>13353</td>\n",
       "      <td>6</td>\n",
       "      <td>NaN</td>\n",
       "    </tr>\n",
       "    <tr>\n",
       "      <th>3</th>\n",
       "      <td>17.0</td>\n",
       "      <td>Pankow</td>\n",
       "      <td>Deutschland</td>\n",
       "      <td>de</td>\n",
       "      <td>13.427344</td>\n",
       "      <td>52.552431</td>\n",
       "      <td>(330, 184)</td>\n",
       "      <td>Wisbyer Straße</td>\n",
       "      <td>NaN</td>\n",
       "      <td>Berlin</td>\n",
       "      <td>Prenzlauer Berg</td>\n",
       "      <td>Berlin</td>\n",
       "      <td>Rixdorf</td>\n",
       "      <td>13189</td>\n",
       "      <td>38</td>\n",
       "      <td>NaN</td>\n",
       "    </tr>\n",
       "    <tr>\n",
       "      <th>0</th>\n",
       "      <td>17.0</td>\n",
       "      <td>Spandau</td>\n",
       "      <td>Deutschland</td>\n",
       "      <td>de</td>\n",
       "      <td>13.199344</td>\n",
       "      <td>52.534431</td>\n",
       "      <td>(102, 166)</td>\n",
       "      <td>Klosterstraße</td>\n",
       "      <td>Blütenreich</td>\n",
       "      <td>Berlin</td>\n",
       "      <td>Spandau</td>\n",
       "      <td>NaN</td>\n",
       "      <td>NaN</td>\n",
       "      <td>NaN</td>\n",
       "      <td>NaN</td>\n",
       "      <td>NaN</td>\n",
       "    </tr>\n",
       "  </tbody>\n",
       "</table>\n",
       "</div>"
      ],
      "text/plain": [
       "   accidents                     borough      country country_code        lat  \\\n",
       "1       20.0  Charlottenburg-Wilmersdorf  Deutschland           de  13.326344   \n",
       "4       16.0    Friedrichshain-Kreuzberg  Deutschland           de  13.446344   \n",
       "2       17.0                       Mitte  Deutschland           de  13.368344   \n",
       "3       17.0                      Pankow  Deutschland           de  13.427344   \n",
       "0       17.0                     Spandau  Deutschland           de  13.199344   \n",
       "\n",
       "        long matrix_index            road         shop   state  \\\n",
       "1  52.538431   (229, 170)       Seestraße          NaN  Berlin   \n",
       "4  52.502431   (349, 134)     Am Oberbaum          NaN  Berlin   \n",
       "2  52.541431   (271, 173)    Müllerstraße          NaN  Berlin   \n",
       "3  52.552431   (330, 184)  Wisbyer Straße          NaN  Berlin   \n",
       "0  52.534431   (102, 166)   Klosterstraße  Blütenreich  Berlin   \n",
       "\n",
       "                suburb    city district postcode house_number        historic  \n",
       "1  Charlottenburg-Nord  Berlin  Rixdorf    13627          NaN             NaN  \n",
       "4       Friedrichshain  Berlin  Rixdorf    10243          NaN  Oberbaumbrücke  \n",
       "2              Wedding  Berlin  Rixdorf    13353            6             NaN  \n",
       "3      Prenzlauer Berg  Berlin  Rixdorf    13189           38             NaN  \n",
       "0              Spandau     NaN      NaN      NaN          NaN             NaN  "
      ]
     },
     "execution_count": 150,
     "metadata": {},
     "output_type": "execute_result"
    }
   ],
   "source": [
    "hot_spots.sort_values(by='borough')"
   ]
  },
  {
   "cell_type": "markdown",
   "metadata": {},
   "source": [
    "Select usefull columns"
   ]
  },
  {
   "cell_type": "code",
   "execution_count": 151,
   "metadata": {
    "scrolled": true
   },
   "outputs": [
    {
     "data": {
      "text/html": [
       "<div>\n",
       "<style scoped>\n",
       "    .dataframe tbody tr th:only-of-type {\n",
       "        vertical-align: middle;\n",
       "    }\n",
       "\n",
       "    .dataframe tbody tr th {\n",
       "        vertical-align: top;\n",
       "    }\n",
       "\n",
       "    .dataframe thead th {\n",
       "        text-align: right;\n",
       "    }\n",
       "</style>\n",
       "<table border=\"1\" class=\"dataframe\">\n",
       "  <thead>\n",
       "    <tr style=\"text-align: right;\">\n",
       "      <th></th>\n",
       "      <th>lat</th>\n",
       "      <th>long</th>\n",
       "      <th>road</th>\n",
       "      <th>borough</th>\n",
       "      <th>postcode</th>\n",
       "      <th>accidents</th>\n",
       "      <th>matrix_index</th>\n",
       "    </tr>\n",
       "  </thead>\n",
       "  <tbody>\n",
       "    <tr>\n",
       "      <th>1</th>\n",
       "      <td>13.326344</td>\n",
       "      <td>52.538431</td>\n",
       "      <td>Seestraße</td>\n",
       "      <td>Charlottenburg-Wilmersdorf</td>\n",
       "      <td>13627</td>\n",
       "      <td>20.0</td>\n",
       "      <td>(229, 170)</td>\n",
       "    </tr>\n",
       "    <tr>\n",
       "      <th>4</th>\n",
       "      <td>13.446344</td>\n",
       "      <td>52.502431</td>\n",
       "      <td>Am Oberbaum</td>\n",
       "      <td>Friedrichshain-Kreuzberg</td>\n",
       "      <td>10243</td>\n",
       "      <td>16.0</td>\n",
       "      <td>(349, 134)</td>\n",
       "    </tr>\n",
       "    <tr>\n",
       "      <th>2</th>\n",
       "      <td>13.368344</td>\n",
       "      <td>52.541431</td>\n",
       "      <td>Müllerstraße</td>\n",
       "      <td>Mitte</td>\n",
       "      <td>13353</td>\n",
       "      <td>17.0</td>\n",
       "      <td>(271, 173)</td>\n",
       "    </tr>\n",
       "    <tr>\n",
       "      <th>3</th>\n",
       "      <td>13.427344</td>\n",
       "      <td>52.552431</td>\n",
       "      <td>Wisbyer Straße</td>\n",
       "      <td>Pankow</td>\n",
       "      <td>13189</td>\n",
       "      <td>17.0</td>\n",
       "      <td>(330, 184)</td>\n",
       "    </tr>\n",
       "    <tr>\n",
       "      <th>0</th>\n",
       "      <td>13.199344</td>\n",
       "      <td>52.534431</td>\n",
       "      <td>Klosterstraße</td>\n",
       "      <td>Spandau</td>\n",
       "      <td>NaN</td>\n",
       "      <td>17.0</td>\n",
       "      <td>(102, 166)</td>\n",
       "    </tr>\n",
       "  </tbody>\n",
       "</table>\n",
       "</div>"
      ],
      "text/plain": [
       "         lat       long            road                     borough postcode  \\\n",
       "1  13.326344  52.538431       Seestraße  Charlottenburg-Wilmersdorf    13627   \n",
       "4  13.446344  52.502431     Am Oberbaum    Friedrichshain-Kreuzberg    10243   \n",
       "2  13.368344  52.541431    Müllerstraße                       Mitte    13353   \n",
       "3  13.427344  52.552431  Wisbyer Straße                      Pankow    13189   \n",
       "0  13.199344  52.534431   Klosterstraße                     Spandau      NaN   \n",
       "\n",
       "   accidents matrix_index  \n",
       "1       20.0   (229, 170)  \n",
       "4       16.0   (349, 134)  \n",
       "2       17.0   (271, 173)  \n",
       "3       17.0   (330, 184)  \n",
       "0       17.0   (102, 166)  "
      ]
     },
     "execution_count": 151,
     "metadata": {},
     "output_type": "execute_result"
    }
   ],
   "source": [
    "hot_spots = hot_spots[['lat','long','road','borough','postcode','accidents','matrix_index']]\n",
    "hot_spots.sort_values(by='borough')"
   ]
  },
  {
   "cell_type": "markdown",
   "metadata": {},
   "source": [
    "Done.\n",
    "\n",
    "Or we can count only subsets of accidents and produce a different ranking: Hot spots for accidents involving pedestrians or bikes."
   ]
  },
  {
   "cell_type": "markdown",
   "metadata": {},
   "source": [
    "## Size of squares in mymap"
   ]
  },
  {
   "cell_type": "code",
   "execution_count": 136,
   "metadata": {},
   "outputs": [
    {
     "data": {
      "text/plain": [
       "(0.0, 0.0)"
      ]
     },
     "execution_count": 136,
     "metadata": {},
     "output_type": "execute_result"
    }
   ],
   "source": [
    "mymap[0,0], mymap[0,1] # number of accidents"
   ]
  },
  {
   "cell_type": "code",
   "execution_count": 156,
   "metadata": {},
   "outputs": [
    {
     "data": {
      "text/plain": [
       "(13.198844207000061, 52.533931488000064, 13.19984420700006, 52.53493148800007)"
      ]
     },
     "execution_count": 156,
     "metadata": {},
     "output_type": "execute_result"
    }
   ],
   "source": [
    "index2bb(*location[0])"
   ]
  },
  {
   "cell_type": "markdown",
   "metadata": {},
   "source": [
    "## Map for accidents with pedestrians"
   ]
  },
  {
   "cell_type": "code",
   "execution_count": 71,
   "metadata": {},
   "outputs": [
    {
     "name": "stdout",
     "output_type": "stream",
     "text": [
      "working with 5005 accidents involving cyclists.\n",
      "map is built. It is a matrix of size (63, 30)\n",
      "map has long, lat bounding box (l,b,r,t) 13.109238032000064 52.36793148800007 13.730559311000034 52.66014629400007\n",
      "highest number of accidents in cell is: 58.0\n",
      "number of cells with more than 40 accidents: 15\n"
     ]
    }
   ],
   "source": [
    "acci = acci[acci['ULAND']==11]\n",
    "acci = acci[acci['IstRad']==1]\n",
    "acci.index = range(len(acci)) # 5005 rows\n",
    "print('working with',len(acci),'accidents involving cyclists.')\n",
    "l = np.min(acci['XGCSWGS84'])\n",
    "r = np.max(acci['XGCSWGS84'])\n",
    "b = np.min(acci['YGCSWGS84'])\n",
    "t = np.max(acci['YGCSWGS84'])\n",
    "res = 0.01\n",
    "w = int((r-l)/res)+1 # int(0.9) = 0 so it just removes decimal places, a floor operation\n",
    "h = int((t-b)/res)+1\n",
    "mymap = np.zeros(w*h).reshape((w,h))\n",
    "[incr(mymap, int((acci.iloc[i]['XGCSWGS84']-l)/res), int((acci.iloc[i]['YGCSWGS84']-b)/res)) for i in acci.index]\n",
    "print('map is built. It is a matrix of size', mymap.shape)\n",
    "print('map has long, lat bounding box (l,b,r,t)', l,b,r,t) # left,bottom,right,top\n",
    "# https://wiki.openstreetmap.org/wiki/DE:Bounding_Box\n",
    "print('highest number of accidents in cell is:',max([max(list(mymap[i,:])) for i in range(w-1)]))\n",
    "thresh=40\n",
    "a1,b1 = np.where(mymap>thresh)\n",
    "z = zip(a1,b1)\n",
    "location=list(z)\n",
    "print('number of cells with more than',thresh,'accidents:',len(location))"
   ]
  },
  {
   "cell_type": "code",
   "execution_count": 69,
   "metadata": {},
   "outputs": [
    {
     "data": {
      "text/html": [
       "<div>\n",
       "<style scoped>\n",
       "    .dataframe tbody tr th:only-of-type {\n",
       "        vertical-align: middle;\n",
       "    }\n",
       "\n",
       "    .dataframe tbody tr th {\n",
       "        vertical-align: top;\n",
       "    }\n",
       "\n",
       "    .dataframe thead th {\n",
       "        text-align: right;\n",
       "    }\n",
       "</style>\n",
       "<table border=\"1\" class=\"dataframe\">\n",
       "  <thead>\n",
       "    <tr style=\"text-align: right;\">\n",
       "      <th></th>\n",
       "      <th>accidents</th>\n",
       "      <th>borough</th>\n",
       "      <th>city</th>\n",
       "      <th>country</th>\n",
       "      <th>country_code</th>\n",
       "      <th>district</th>\n",
       "      <th>lat</th>\n",
       "      <th>long</th>\n",
       "      <th>matrix_index</th>\n",
       "      <th>postcode</th>\n",
       "      <th>...</th>\n",
       "      <th>state</th>\n",
       "      <th>suburb</th>\n",
       "      <th>house_number</th>\n",
       "      <th>leisure</th>\n",
       "      <th>place</th>\n",
       "      <th>tourism</th>\n",
       "      <th>building</th>\n",
       "      <th>neighbourhood</th>\n",
       "      <th>amenity</th>\n",
       "      <th>historic</th>\n",
       "    </tr>\n",
       "  </thead>\n",
       "  <tbody>\n",
       "    <tr>\n",
       "      <th>2</th>\n",
       "      <td>52.0</td>\n",
       "      <td>Friedrichshain-Kreuzberg</td>\n",
       "      <td>Berlin</td>\n",
       "      <td>Deutschland</td>\n",
       "      <td>de</td>\n",
       "      <td>Rixdorf</td>\n",
       "      <td>13.381844</td>\n",
       "      <td>52.492931</td>\n",
       "      <td>(28, 12)</td>\n",
       "      <td>10965</td>\n",
       "      <td>...</td>\n",
       "      <td>Berlin</td>\n",
       "      <td>Kreuzberg</td>\n",
       "      <td>74</td>\n",
       "      <td>Spielothek 21</td>\n",
       "      <td>NaN</td>\n",
       "      <td>NaN</td>\n",
       "      <td>NaN</td>\n",
       "      <td>NaN</td>\n",
       "      <td>NaN</td>\n",
       "      <td>NaN</td>\n",
       "    </tr>\n",
       "    <tr>\n",
       "      <th>3</th>\n",
       "      <td>41.0</td>\n",
       "      <td>Friedrichshain-Kreuzberg</td>\n",
       "      <td>Berlin</td>\n",
       "      <td>Deutschland</td>\n",
       "      <td>de</td>\n",
       "      <td>Rixdorf</td>\n",
       "      <td>13.381844</td>\n",
       "      <td>52.502931</td>\n",
       "      <td>(28, 13)</td>\n",
       "      <td>10963</td>\n",
       "      <td>...</td>\n",
       "      <td>Berlin</td>\n",
       "      <td>Kreuzberg</td>\n",
       "      <td>6</td>\n",
       "      <td>NaN</td>\n",
       "      <td>Lilli-Hennoch Sportplatz</td>\n",
       "      <td>NaN</td>\n",
       "      <td>NaN</td>\n",
       "      <td>NaN</td>\n",
       "      <td>NaN</td>\n",
       "      <td>NaN</td>\n",
       "    </tr>\n",
       "    <tr>\n",
       "      <th>8</th>\n",
       "      <td>58.0</td>\n",
       "      <td>Friedrichshain-Kreuzberg</td>\n",
       "      <td>Berlin</td>\n",
       "      <td>Deutschland</td>\n",
       "      <td>de</td>\n",
       "      <td>Rixdorf</td>\n",
       "      <td>13.401844</td>\n",
       "      <td>52.502931</td>\n",
       "      <td>(30, 13)</td>\n",
       "      <td>10969</td>\n",
       "      <td>...</td>\n",
       "      <td>Berlin</td>\n",
       "      <td>Kreuzberg</td>\n",
       "      <td>NaN</td>\n",
       "      <td>NaN</td>\n",
       "      <td>NaN</td>\n",
       "      <td>NaN</td>\n",
       "      <td>NaN</td>\n",
       "      <td>Luisenstadt</td>\n",
       "      <td>Freie Waldorfschule Kreuzberg e.V.</td>\n",
       "      <td>NaN</td>\n",
       "    </tr>\n",
       "    <tr>\n",
       "      <th>11</th>\n",
       "      <td>46.0</td>\n",
       "      <td>Friedrichshain-Kreuzberg</td>\n",
       "      <td>Berlin</td>\n",
       "      <td>Deutschland</td>\n",
       "      <td>de</td>\n",
       "      <td>Rixdorf</td>\n",
       "      <td>13.411844</td>\n",
       "      <td>52.502931</td>\n",
       "      <td>(31, 13)</td>\n",
       "      <td>10969</td>\n",
       "      <td>...</td>\n",
       "      <td>Berlin</td>\n",
       "      <td>Kreuzberg</td>\n",
       "      <td>35-38</td>\n",
       "      <td>Prinzessinnengarten</td>\n",
       "      <td>NaN</td>\n",
       "      <td>NaN</td>\n",
       "      <td>NaN</td>\n",
       "      <td>Luisenstadt</td>\n",
       "      <td>NaN</td>\n",
       "      <td>NaN</td>\n",
       "    </tr>\n",
       "    <tr>\n",
       "      <th>12</th>\n",
       "      <td>57.0</td>\n",
       "      <td>Friedrichshain-Kreuzberg</td>\n",
       "      <td>Berlin</td>\n",
       "      <td>Deutschland</td>\n",
       "      <td>de</td>\n",
       "      <td>Rixdorf</td>\n",
       "      <td>13.431844</td>\n",
       "      <td>52.502931</td>\n",
       "      <td>(33, 13)</td>\n",
       "      <td>10997</td>\n",
       "      <td>...</td>\n",
       "      <td>Berlin</td>\n",
       "      <td>Kreuzberg</td>\n",
       "      <td>37</td>\n",
       "      <td>NaN</td>\n",
       "      <td>NaN</td>\n",
       "      <td>NaN</td>\n",
       "      <td>NaN</td>\n",
       "      <td>Luisenstadt</td>\n",
       "      <td>NaN</td>\n",
       "      <td>NaN</td>\n",
       "    </tr>\n",
       "    <tr>\n",
       "      <th>13</th>\n",
       "      <td>56.0</td>\n",
       "      <td>Friedrichshain-Kreuzberg</td>\n",
       "      <td>Berlin</td>\n",
       "      <td>Deutschland</td>\n",
       "      <td>de</td>\n",
       "      <td>Rixdorf</td>\n",
       "      <td>13.441844</td>\n",
       "      <td>52.512931</td>\n",
       "      <td>(34, 14)</td>\n",
       "      <td>10243</td>\n",
       "      <td>...</td>\n",
       "      <td>Berlin</td>\n",
       "      <td>Friedrichshain</td>\n",
       "      <td>42</td>\n",
       "      <td>NaN</td>\n",
       "      <td>NaN</td>\n",
       "      <td>NaN</td>\n",
       "      <td>NaN</td>\n",
       "      <td>NaN</td>\n",
       "      <td>NaN</td>\n",
       "      <td>NaN</td>\n",
       "    </tr>\n",
       "    <tr>\n",
       "      <th>14</th>\n",
       "      <td>52.0</td>\n",
       "      <td>Friedrichshain-Kreuzberg</td>\n",
       "      <td>Berlin</td>\n",
       "      <td>Deutschland</td>\n",
       "      <td>de</td>\n",
       "      <td>Rixdorf</td>\n",
       "      <td>13.451844</td>\n",
       "      <td>52.512931</td>\n",
       "      <td>(35, 14)</td>\n",
       "      <td>10243</td>\n",
       "      <td>...</td>\n",
       "      <td>Berlin</td>\n",
       "      <td>Friedrichshain</td>\n",
       "      <td>14A</td>\n",
       "      <td>NaN</td>\n",
       "      <td>NaN</td>\n",
       "      <td>NaN</td>\n",
       "      <td>NaN</td>\n",
       "      <td>NaN</td>\n",
       "      <td>NaN</td>\n",
       "      <td>NaN</td>\n",
       "    </tr>\n",
       "    <tr>\n",
       "      <th>0</th>\n",
       "      <td>43.0</td>\n",
       "      <td>Mitte</td>\n",
       "      <td>Berlin</td>\n",
       "      <td>Deutschland</td>\n",
       "      <td>de</td>\n",
       "      <td>Rixdorf</td>\n",
       "      <td>13.361844</td>\n",
       "      <td>52.512931</td>\n",
       "      <td>(26, 14)</td>\n",
       "      <td>10785</td>\n",
       "      <td>...</td>\n",
       "      <td>Berlin</td>\n",
       "      <td>Tiergarten</td>\n",
       "      <td>NaN</td>\n",
       "      <td>NaN</td>\n",
       "      <td>NaN</td>\n",
       "      <td>NaN</td>\n",
       "      <td>NaN</td>\n",
       "      <td>NaN</td>\n",
       "      <td>NaN</td>\n",
       "      <td>NaN</td>\n",
       "    </tr>\n",
       "    <tr>\n",
       "      <th>1</th>\n",
       "      <td>49.0</td>\n",
       "      <td>Mitte</td>\n",
       "      <td>Berlin</td>\n",
       "      <td>Deutschland</td>\n",
       "      <td>de</td>\n",
       "      <td>Rixdorf</td>\n",
       "      <td>13.371844</td>\n",
       "      <td>52.512931</td>\n",
       "      <td>(27, 14)</td>\n",
       "      <td>10785</td>\n",
       "      <td>...</td>\n",
       "      <td>Berlin</td>\n",
       "      <td>Tiergarten</td>\n",
       "      <td>NaN</td>\n",
       "      <td>NaN</td>\n",
       "      <td>NaN</td>\n",
       "      <td>NaN</td>\n",
       "      <td>NaN</td>\n",
       "      <td>NaN</td>\n",
       "      <td>NaN</td>\n",
       "      <td>NaN</td>\n",
       "    </tr>\n",
       "    <tr>\n",
       "      <th>4</th>\n",
       "      <td>42.0</td>\n",
       "      <td>Mitte</td>\n",
       "      <td>Berlin</td>\n",
       "      <td>Deutschland</td>\n",
       "      <td>de</td>\n",
       "      <td>Rixdorf</td>\n",
       "      <td>13.381844</td>\n",
       "      <td>52.512931</td>\n",
       "      <td>(28, 14)</td>\n",
       "      <td>10117</td>\n",
       "      <td>...</td>\n",
       "      <td>Berlin</td>\n",
       "      <td>Mitte</td>\n",
       "      <td>88</td>\n",
       "      <td>NaN</td>\n",
       "      <td>NaN</td>\n",
       "      <td>NaN</td>\n",
       "      <td>NaN</td>\n",
       "      <td>NaN</td>\n",
       "      <td>NaN</td>\n",
       "      <td>NaN</td>\n",
       "    </tr>\n",
       "    <tr>\n",
       "      <th>5</th>\n",
       "      <td>43.0</td>\n",
       "      <td>Mitte</td>\n",
       "      <td>Berlin</td>\n",
       "      <td>Deutschland</td>\n",
       "      <td>de</td>\n",
       "      <td>Rixdorf</td>\n",
       "      <td>13.381844</td>\n",
       "      <td>52.532931</td>\n",
       "      <td>(28, 16)</td>\n",
       "      <td>10115</td>\n",
       "      <td>...</td>\n",
       "      <td>Berlin</td>\n",
       "      <td>Mitte</td>\n",
       "      <td>30</td>\n",
       "      <td>NaN</td>\n",
       "      <td>NaN</td>\n",
       "      <td>Titanic Chaussee Berlin</td>\n",
       "      <td>NaN</td>\n",
       "      <td>NaN</td>\n",
       "      <td>NaN</td>\n",
       "      <td>NaN</td>\n",
       "    </tr>\n",
       "    <tr>\n",
       "      <th>6</th>\n",
       "      <td>41.0</td>\n",
       "      <td>Mitte</td>\n",
       "      <td>Berlin</td>\n",
       "      <td>Deutschland</td>\n",
       "      <td>de</td>\n",
       "      <td>Rixdorf</td>\n",
       "      <td>13.391844</td>\n",
       "      <td>52.522931</td>\n",
       "      <td>(29, 15)</td>\n",
       "      <td>10117</td>\n",
       "      <td>...</td>\n",
       "      <td>Berlin</td>\n",
       "      <td>Mitte</td>\n",
       "      <td>NaN</td>\n",
       "      <td>NaN</td>\n",
       "      <td>NaN</td>\n",
       "      <td>NaN</td>\n",
       "      <td>Gropius-Ensemble</td>\n",
       "      <td>Spandauer Vorstadt</td>\n",
       "      <td>NaN</td>\n",
       "      <td>NaN</td>\n",
       "    </tr>\n",
       "    <tr>\n",
       "      <th>7</th>\n",
       "      <td>47.0</td>\n",
       "      <td>Mitte</td>\n",
       "      <td>Berlin</td>\n",
       "      <td>Deutschland</td>\n",
       "      <td>de</td>\n",
       "      <td>Rixdorf</td>\n",
       "      <td>13.391844</td>\n",
       "      <td>52.532931</td>\n",
       "      <td>(29, 16)</td>\n",
       "      <td>10115</td>\n",
       "      <td>...</td>\n",
       "      <td>Berlin</td>\n",
       "      <td>Mitte</td>\n",
       "      <td>62</td>\n",
       "      <td>NaN</td>\n",
       "      <td>NaN</td>\n",
       "      <td>NaN</td>\n",
       "      <td>NaN</td>\n",
       "      <td>NaN</td>\n",
       "      <td>NaN</td>\n",
       "      <td>NaN</td>\n",
       "    </tr>\n",
       "    <tr>\n",
       "      <th>9</th>\n",
       "      <td>52.0</td>\n",
       "      <td>Mitte</td>\n",
       "      <td>Berlin</td>\n",
       "      <td>Deutschland</td>\n",
       "      <td>de</td>\n",
       "      <td>Rixdorf</td>\n",
       "      <td>13.401844</td>\n",
       "      <td>52.522931</td>\n",
       "      <td>(30, 15)</td>\n",
       "      <td>10178</td>\n",
       "      <td>...</td>\n",
       "      <td>Berlin</td>\n",
       "      <td>Mitte</td>\n",
       "      <td>NaN</td>\n",
       "      <td>NaN</td>\n",
       "      <td>NaN</td>\n",
       "      <td>NaN</td>\n",
       "      <td>NaN</td>\n",
       "      <td>Spandauer Vorstadt</td>\n",
       "      <td>Maredo</td>\n",
       "      <td>NaN</td>\n",
       "    </tr>\n",
       "    <tr>\n",
       "      <th>10</th>\n",
       "      <td>45.0</td>\n",
       "      <td>Mitte</td>\n",
       "      <td>Berlin</td>\n",
       "      <td>Deutschland</td>\n",
       "      <td>de</td>\n",
       "      <td>Rixdorf</td>\n",
       "      <td>13.401844</td>\n",
       "      <td>52.542931</td>\n",
       "      <td>(30, 17)</td>\n",
       "      <td>13355</td>\n",
       "      <td>...</td>\n",
       "      <td>Berlin</td>\n",
       "      <td>Gesundbrunnen</td>\n",
       "      <td>NaN</td>\n",
       "      <td>NaN</td>\n",
       "      <td>NaN</td>\n",
       "      <td>NaN</td>\n",
       "      <td>NaN</td>\n",
       "      <td>NaN</td>\n",
       "      <td>NaN</td>\n",
       "      <td>Berlin Nordbahnhof</td>\n",
       "    </tr>\n",
       "  </tbody>\n",
       "</table>\n",
       "<p>15 rows × 22 columns</p>\n",
       "</div>"
      ],
      "text/plain": [
       "    accidents                   borough    city      country country_code  \\\n",
       "2        52.0  Friedrichshain-Kreuzberg  Berlin  Deutschland           de   \n",
       "3        41.0  Friedrichshain-Kreuzberg  Berlin  Deutschland           de   \n",
       "8        58.0  Friedrichshain-Kreuzberg  Berlin  Deutschland           de   \n",
       "11       46.0  Friedrichshain-Kreuzberg  Berlin  Deutschland           de   \n",
       "12       57.0  Friedrichshain-Kreuzberg  Berlin  Deutschland           de   \n",
       "13       56.0  Friedrichshain-Kreuzberg  Berlin  Deutschland           de   \n",
       "14       52.0  Friedrichshain-Kreuzberg  Berlin  Deutschland           de   \n",
       "0        43.0                     Mitte  Berlin  Deutschland           de   \n",
       "1        49.0                     Mitte  Berlin  Deutschland           de   \n",
       "4        42.0                     Mitte  Berlin  Deutschland           de   \n",
       "5        43.0                     Mitte  Berlin  Deutschland           de   \n",
       "6        41.0                     Mitte  Berlin  Deutschland           de   \n",
       "7        47.0                     Mitte  Berlin  Deutschland           de   \n",
       "9        52.0                     Mitte  Berlin  Deutschland           de   \n",
       "10       45.0                     Mitte  Berlin  Deutschland           de   \n",
       "\n",
       "   district        lat       long matrix_index postcode  ...   state  \\\n",
       "2   Rixdorf  13.381844  52.492931     (28, 12)    10965  ...  Berlin   \n",
       "3   Rixdorf  13.381844  52.502931     (28, 13)    10963  ...  Berlin   \n",
       "8   Rixdorf  13.401844  52.502931     (30, 13)    10969  ...  Berlin   \n",
       "11  Rixdorf  13.411844  52.502931     (31, 13)    10969  ...  Berlin   \n",
       "12  Rixdorf  13.431844  52.502931     (33, 13)    10997  ...  Berlin   \n",
       "13  Rixdorf  13.441844  52.512931     (34, 14)    10243  ...  Berlin   \n",
       "14  Rixdorf  13.451844  52.512931     (35, 14)    10243  ...  Berlin   \n",
       "0   Rixdorf  13.361844  52.512931     (26, 14)    10785  ...  Berlin   \n",
       "1   Rixdorf  13.371844  52.512931     (27, 14)    10785  ...  Berlin   \n",
       "4   Rixdorf  13.381844  52.512931     (28, 14)    10117  ...  Berlin   \n",
       "5   Rixdorf  13.381844  52.532931     (28, 16)    10115  ...  Berlin   \n",
       "6   Rixdorf  13.391844  52.522931     (29, 15)    10117  ...  Berlin   \n",
       "7   Rixdorf  13.391844  52.532931     (29, 16)    10115  ...  Berlin   \n",
       "9   Rixdorf  13.401844  52.522931     (30, 15)    10178  ...  Berlin   \n",
       "10  Rixdorf  13.401844  52.542931     (30, 17)    13355  ...  Berlin   \n",
       "\n",
       "            suburb house_number              leisure  \\\n",
       "2        Kreuzberg           74        Spielothek 21   \n",
       "3        Kreuzberg            6                  NaN   \n",
       "8        Kreuzberg          NaN                  NaN   \n",
       "11       Kreuzberg        35-38  Prinzessinnengarten   \n",
       "12       Kreuzberg           37                  NaN   \n",
       "13  Friedrichshain           42                  NaN   \n",
       "14  Friedrichshain          14A                  NaN   \n",
       "0       Tiergarten          NaN                  NaN   \n",
       "1       Tiergarten          NaN                  NaN   \n",
       "4            Mitte           88                  NaN   \n",
       "5            Mitte           30                  NaN   \n",
       "6            Mitte          NaN                  NaN   \n",
       "7            Mitte           62                  NaN   \n",
       "9            Mitte          NaN                  NaN   \n",
       "10   Gesundbrunnen          NaN                  NaN   \n",
       "\n",
       "                       place                  tourism          building  \\\n",
       "2                        NaN                      NaN               NaN   \n",
       "3   Lilli-Hennoch Sportplatz                      NaN               NaN   \n",
       "8                        NaN                      NaN               NaN   \n",
       "11                       NaN                      NaN               NaN   \n",
       "12                       NaN                      NaN               NaN   \n",
       "13                       NaN                      NaN               NaN   \n",
       "14                       NaN                      NaN               NaN   \n",
       "0                        NaN                      NaN               NaN   \n",
       "1                        NaN                      NaN               NaN   \n",
       "4                        NaN                      NaN               NaN   \n",
       "5                        NaN  Titanic Chaussee Berlin               NaN   \n",
       "6                        NaN                      NaN  Gropius-Ensemble   \n",
       "7                        NaN                      NaN               NaN   \n",
       "9                        NaN                      NaN               NaN   \n",
       "10                       NaN                      NaN               NaN   \n",
       "\n",
       "         neighbourhood                             amenity            historic  \n",
       "2                  NaN                                 NaN                 NaN  \n",
       "3                  NaN                                 NaN                 NaN  \n",
       "8          Luisenstadt  Freie Waldorfschule Kreuzberg e.V.                 NaN  \n",
       "11         Luisenstadt                                 NaN                 NaN  \n",
       "12         Luisenstadt                                 NaN                 NaN  \n",
       "13                 NaN                                 NaN                 NaN  \n",
       "14                 NaN                                 NaN                 NaN  \n",
       "0                  NaN                                 NaN                 NaN  \n",
       "1                  NaN                                 NaN                 NaN  \n",
       "4                  NaN                                 NaN                 NaN  \n",
       "5                  NaN                                 NaN                 NaN  \n",
       "6   Spandauer Vorstadt                                 NaN                 NaN  \n",
       "7                  NaN                                 NaN                 NaN  \n",
       "9   Spandauer Vorstadt                              Maredo                 NaN  \n",
       "10                 NaN                                 NaN  Berlin Nordbahnhof  \n",
       "\n",
       "[15 rows x 22 columns]"
      ]
     },
     "execution_count": 69,
     "metadata": {},
     "output_type": "execute_result"
    }
   ],
   "source": [
    "hot_spots.sort_values(by='borough')"
   ]
  },
  {
   "cell_type": "code",
   "execution_count": 61,
   "metadata": {},
   "outputs": [
    {
     "data": {
      "text/plain": [
       "Index(['accidents', 'borough', 'city', 'country', 'country_code', 'district',\n",
       "       'house_number', 'lat', 'long', 'matrix_index', 'postcode', 'road',\n",
       "       'shop', 'state', 'suburb', 'neighbourhood', 'highway', 'office',\n",
       "       'leisure', 'tourism', 'amenity', 'building'],\n",
       "      dtype='object')"
      ]
     },
     "execution_count": 61,
     "metadata": {},
     "output_type": "execute_result"
    }
   ],
   "source": [
    "hot_spots.columns"
   ]
  },
  {
   "cell_type": "code",
   "execution_count": 70,
   "metadata": {},
   "outputs": [
    {
     "data": {
      "text/html": [
       "<div>\n",
       "<style scoped>\n",
       "    .dataframe tbody tr th:only-of-type {\n",
       "        vertical-align: middle;\n",
       "    }\n",
       "\n",
       "    .dataframe tbody tr th {\n",
       "        vertical-align: top;\n",
       "    }\n",
       "\n",
       "    .dataframe thead th {\n",
       "        text-align: right;\n",
       "    }\n",
       "</style>\n",
       "<table border=\"1\" class=\"dataframe\">\n",
       "  <thead>\n",
       "    <tr style=\"text-align: right;\">\n",
       "      <th></th>\n",
       "      <th>lat</th>\n",
       "      <th>long</th>\n",
       "      <th>road</th>\n",
       "      <th>borough</th>\n",
       "      <th>postcode</th>\n",
       "      <th>accidents</th>\n",
       "      <th>matrix_index</th>\n",
       "    </tr>\n",
       "  </thead>\n",
       "  <tbody>\n",
       "    <tr>\n",
       "      <th>2</th>\n",
       "      <td>13.381844</td>\n",
       "      <td>52.492931</td>\n",
       "      <td>Yorckstraße</td>\n",
       "      <td>Friedrichshain-Kreuzberg</td>\n",
       "      <td>10965</td>\n",
       "      <td>52.0</td>\n",
       "      <td>(28, 12)</td>\n",
       "    </tr>\n",
       "    <tr>\n",
       "      <th>3</th>\n",
       "      <td>13.381844</td>\n",
       "      <td>52.502931</td>\n",
       "      <td>Askanischer Platz</td>\n",
       "      <td>Friedrichshain-Kreuzberg</td>\n",
       "      <td>10963</td>\n",
       "      <td>41.0</td>\n",
       "      <td>(28, 13)</td>\n",
       "    </tr>\n",
       "    <tr>\n",
       "      <th>8</th>\n",
       "      <td>13.401844</td>\n",
       "      <td>52.502931</td>\n",
       "      <td>Ritterstraße</td>\n",
       "      <td>Friedrichshain-Kreuzberg</td>\n",
       "      <td>10969</td>\n",
       "      <td>58.0</td>\n",
       "      <td>(30, 13)</td>\n",
       "    </tr>\n",
       "    <tr>\n",
       "      <th>11</th>\n",
       "      <td>13.411844</td>\n",
       "      <td>52.502931</td>\n",
       "      <td>Prinzenstraße</td>\n",
       "      <td>Friedrichshain-Kreuzberg</td>\n",
       "      <td>10969</td>\n",
       "      <td>46.0</td>\n",
       "      <td>(31, 13)</td>\n",
       "    </tr>\n",
       "    <tr>\n",
       "      <th>12</th>\n",
       "      <td>13.431844</td>\n",
       "      <td>52.502931</td>\n",
       "      <td>Pücklerstraße</td>\n",
       "      <td>Friedrichshain-Kreuzberg</td>\n",
       "      <td>10997</td>\n",
       "      <td>57.0</td>\n",
       "      <td>(33, 13)</td>\n",
       "    </tr>\n",
       "    <tr>\n",
       "      <th>13</th>\n",
       "      <td>13.441844</td>\n",
       "      <td>52.512931</td>\n",
       "      <td>Rüdersdorfer Straße</td>\n",
       "      <td>Friedrichshain-Kreuzberg</td>\n",
       "      <td>10243</td>\n",
       "      <td>56.0</td>\n",
       "      <td>(34, 14)</td>\n",
       "    </tr>\n",
       "    <tr>\n",
       "      <th>14</th>\n",
       "      <td>13.451844</td>\n",
       "      <td>52.512931</td>\n",
       "      <td>Warschauer Straße</td>\n",
       "      <td>Friedrichshain-Kreuzberg</td>\n",
       "      <td>10243</td>\n",
       "      <td>52.0</td>\n",
       "      <td>(35, 14)</td>\n",
       "    </tr>\n",
       "    <tr>\n",
       "      <th>0</th>\n",
       "      <td>13.361844</td>\n",
       "      <td>52.512931</td>\n",
       "      <td>Bellevueallee</td>\n",
       "      <td>Mitte</td>\n",
       "      <td>10785</td>\n",
       "      <td>43.0</td>\n",
       "      <td>(26, 14)</td>\n",
       "    </tr>\n",
       "    <tr>\n",
       "      <th>1</th>\n",
       "      <td>13.371844</td>\n",
       "      <td>52.512931</td>\n",
       "      <td>Ahornsteig</td>\n",
       "      <td>Mitte</td>\n",
       "      <td>10785</td>\n",
       "      <td>49.0</td>\n",
       "      <td>(27, 14)</td>\n",
       "    </tr>\n",
       "    <tr>\n",
       "      <th>4</th>\n",
       "      <td>13.381844</td>\n",
       "      <td>52.512931</td>\n",
       "      <td>Wilhelmstraße</td>\n",
       "      <td>Mitte</td>\n",
       "      <td>10117</td>\n",
       "      <td>42.0</td>\n",
       "      <td>(28, 14)</td>\n",
       "    </tr>\n",
       "    <tr>\n",
       "      <th>5</th>\n",
       "      <td>13.381844</td>\n",
       "      <td>52.532931</td>\n",
       "      <td>Chausseestraße</td>\n",
       "      <td>Mitte</td>\n",
       "      <td>10115</td>\n",
       "      <td>43.0</td>\n",
       "      <td>(28, 16)</td>\n",
       "    </tr>\n",
       "    <tr>\n",
       "      <th>6</th>\n",
       "      <td>13.391844</td>\n",
       "      <td>52.522931</td>\n",
       "      <td>Tucholskystraße</td>\n",
       "      <td>Mitte</td>\n",
       "      <td>10117</td>\n",
       "      <td>41.0</td>\n",
       "      <td>(29, 15)</td>\n",
       "    </tr>\n",
       "    <tr>\n",
       "      <th>7</th>\n",
       "      <td>13.391844</td>\n",
       "      <td>52.532931</td>\n",
       "      <td>Bergstraße</td>\n",
       "      <td>Mitte</td>\n",
       "      <td>10115</td>\n",
       "      <td>47.0</td>\n",
       "      <td>(29, 16)</td>\n",
       "    </tr>\n",
       "    <tr>\n",
       "      <th>9</th>\n",
       "      <td>13.401844</td>\n",
       "      <td>52.522931</td>\n",
       "      <td>Hackescher Markt</td>\n",
       "      <td>Mitte</td>\n",
       "      <td>10178</td>\n",
       "      <td>52.0</td>\n",
       "      <td>(30, 15)</td>\n",
       "    </tr>\n",
       "    <tr>\n",
       "      <th>10</th>\n",
       "      <td>13.401844</td>\n",
       "      <td>52.542931</td>\n",
       "      <td>Brunnenstraße</td>\n",
       "      <td>Mitte</td>\n",
       "      <td>13355</td>\n",
       "      <td>45.0</td>\n",
       "      <td>(30, 17)</td>\n",
       "    </tr>\n",
       "  </tbody>\n",
       "</table>\n",
       "</div>"
      ],
      "text/plain": [
       "          lat       long                 road                   borough  \\\n",
       "2   13.381844  52.492931          Yorckstraße  Friedrichshain-Kreuzberg   \n",
       "3   13.381844  52.502931    Askanischer Platz  Friedrichshain-Kreuzberg   \n",
       "8   13.401844  52.502931         Ritterstraße  Friedrichshain-Kreuzberg   \n",
       "11  13.411844  52.502931        Prinzenstraße  Friedrichshain-Kreuzberg   \n",
       "12  13.431844  52.502931        Pücklerstraße  Friedrichshain-Kreuzberg   \n",
       "13  13.441844  52.512931  Rüdersdorfer Straße  Friedrichshain-Kreuzberg   \n",
       "14  13.451844  52.512931    Warschauer Straße  Friedrichshain-Kreuzberg   \n",
       "0   13.361844  52.512931        Bellevueallee                     Mitte   \n",
       "1   13.371844  52.512931           Ahornsteig                     Mitte   \n",
       "4   13.381844  52.512931        Wilhelmstraße                     Mitte   \n",
       "5   13.381844  52.532931       Chausseestraße                     Mitte   \n",
       "6   13.391844  52.522931      Tucholskystraße                     Mitte   \n",
       "7   13.391844  52.532931           Bergstraße                     Mitte   \n",
       "9   13.401844  52.522931     Hackescher Markt                     Mitte   \n",
       "10  13.401844  52.542931        Brunnenstraße                     Mitte   \n",
       "\n",
       "   postcode  accidents matrix_index  \n",
       "2     10965       52.0     (28, 12)  \n",
       "3     10963       41.0     (28, 13)  \n",
       "8     10969       58.0     (30, 13)  \n",
       "11    10969       46.0     (31, 13)  \n",
       "12    10997       57.0     (33, 13)  \n",
       "13    10243       56.0     (34, 14)  \n",
       "14    10243       52.0     (35, 14)  \n",
       "0     10785       43.0     (26, 14)  \n",
       "1     10785       49.0     (27, 14)  \n",
       "4     10117       42.0     (28, 14)  \n",
       "5     10115       43.0     (28, 16)  \n",
       "6     10117       41.0     (29, 15)  \n",
       "7     10115       47.0     (29, 16)  \n",
       "9     10178       52.0     (30, 15)  \n",
       "10    13355       45.0     (30, 17)  "
      ]
     },
     "execution_count": 70,
     "metadata": {},
     "output_type": "execute_result"
    }
   ],
   "source": [
    "hot_spots = hot_spots[['lat','long','road','borough','postcode','accidents','matrix_index']]\n",
    "hot_spots.sort_values(by='borough')"
   ]
  },
  {
   "cell_type": "markdown",
   "metadata": {},
   "source": [
    "## code to learn from"
   ]
  },
  {
   "cell_type": "code",
   "execution_count": 477,
   "metadata": {},
   "outputs": [
    {
     "data": {
      "text/html": [
       "<div>\n",
       "<style scoped>\n",
       "    .dataframe tbody tr th:only-of-type {\n",
       "        vertical-align: middle;\n",
       "    }\n",
       "\n",
       "    .dataframe tbody tr th {\n",
       "        vertical-align: top;\n",
       "    }\n",
       "\n",
       "    .dataframe thead th {\n",
       "        text-align: right;\n",
       "    }\n",
       "</style>\n",
       "<table border=\"1\" class=\"dataframe\">\n",
       "  <thead>\n",
       "    <tr style=\"text-align: right;\">\n",
       "      <th></th>\n",
       "      <th>lat</th>\n",
       "      <th>long</th>\n",
       "    </tr>\n",
       "  </thead>\n",
       "  <tbody>\n",
       "    <tr>\n",
       "      <th>0</th>\n",
       "      <td>13.199794</td>\n",
       "      <td>52.534781</td>\n",
       "    </tr>\n",
       "    <tr>\n",
       "      <th>1</th>\n",
       "      <td>13.315094</td>\n",
       "      <td>52.490881</td>\n",
       "    </tr>\n",
       "    <tr>\n",
       "      <th>2</th>\n",
       "      <td>13.360294</td>\n",
       "      <td>52.537281</td>\n",
       "    </tr>\n",
       "    <tr>\n",
       "      <th>3</th>\n",
       "      <td>13.365494</td>\n",
       "      <td>52.557981</td>\n",
       "    </tr>\n",
       "    <tr>\n",
       "      <th>4</th>\n",
       "      <td>13.368394</td>\n",
       "      <td>52.541081</td>\n",
       "    </tr>\n",
       "  </tbody>\n",
       "</table>\n",
       "</div>"
      ],
      "text/plain": [
       "         lat       long\n",
       "0  13.199794  52.534781\n",
       "1  13.315094  52.490881\n",
       "2  13.360294  52.537281\n",
       "3  13.365494  52.557981\n",
       "4  13.368394  52.541081"
      ]
     },
     "execution_count": 477,
     "metadata": {},
     "output_type": "execute_result"
    }
   ],
   "source": [
    "df = pd.DataFrame(columns=['lat','long'])\n",
    "for i in range(5):\n",
    "    x,y= x,y = index2coord(*location[i])\n",
    "    df = df.append({'lat': x, 'long':y}, ignore_index=True)\n",
    "df\n"
   ]
  },
  {
   "cell_type": "code",
   "execution_count": 320,
   "metadata": {},
   "outputs": [
    {
     "name": "stdout",
     "output_type": "stream",
     "text": [
      "*** option 1 ***\n",
      "   col1 col2\n",
      "0     1    a\n",
      "1     2    b\n",
      "2     3    c\n",
      "*** option 2 ***\n",
      "   1  2  3\n",
      "0  a  b  c\n"
     ]
    }
   ],
   "source": [
    "# turning a dictionray into a data frame\n",
    "d = {1: \"a\", 2: \"b\", 3:\"c\"}\n",
    "# one option\n",
    "dd1 = pd.DataFrame(d.items(), columns=['col1', 'col2'])\n",
    "print('*** option 1 ***')\n",
    "print(dd1)\n",
    "# another option - different result !\n",
    "dd2 = pd.DataFrame([d])\n",
    "print('*** option 2 ***')\n",
    "print(dd2)"
   ]
  },
  {
   "cell_type": "code",
   "execution_count": 407,
   "metadata": {},
   "outputs": [
    {
     "data": {
      "text/html": [
       "<div>\n",
       "<style scoped>\n",
       "    .dataframe tbody tr th:only-of-type {\n",
       "        vertical-align: middle;\n",
       "    }\n",
       "\n",
       "    .dataframe tbody tr th {\n",
       "        vertical-align: top;\n",
       "    }\n",
       "\n",
       "    .dataframe thead th {\n",
       "        text-align: right;\n",
       "    }\n",
       "</style>\n",
       "<table border=\"1\" class=\"dataframe\">\n",
       "  <thead>\n",
       "    <tr style=\"text-align: right;\">\n",
       "      <th></th>\n",
       "      <th>lat</th>\n",
       "      <th>long</th>\n",
       "    </tr>\n",
       "  </thead>\n",
       "  <tbody>\n",
       "    <tr>\n",
       "      <th>2</th>\n",
       "      <td>13.558294</td>\n",
       "      <td>52.562881</td>\n",
       "    </tr>\n",
       "  </tbody>\n",
       "</table>\n",
       "</div>"
      ],
      "text/plain": [
       "         lat       long\n",
       "2  13.558294  52.562881"
      ]
     },
     "execution_count": 407,
     "metadata": {},
     "output_type": "execute_result"
    }
   ],
   "source": [
    "d={'lat':x,'long':y}\n",
    "pd.DataFrame(data=d,index=[2])"
   ]
  },
  {
   "cell_type": "code",
   "execution_count": 408,
   "metadata": {},
   "outputs": [
    {
     "data": {
      "text/html": [
       "<div>\n",
       "<style scoped>\n",
       "    .dataframe tbody tr th:only-of-type {\n",
       "        vertical-align: middle;\n",
       "    }\n",
       "\n",
       "    .dataframe tbody tr th {\n",
       "        vertical-align: top;\n",
       "    }\n",
       "\n",
       "    .dataframe thead th {\n",
       "        text-align: right;\n",
       "    }\n",
       "</style>\n",
       "<table border=\"1\" class=\"dataframe\">\n",
       "  <thead>\n",
       "    <tr style=\"text-align: right;\">\n",
       "      <th></th>\n",
       "      <th>A</th>\n",
       "    </tr>\n",
       "  </thead>\n",
       "  <tbody>\n",
       "    <tr>\n",
       "      <th>0</th>\n",
       "      <td>0</td>\n",
       "    </tr>\n",
       "    <tr>\n",
       "      <th>1</th>\n",
       "      <td>1</td>\n",
       "    </tr>\n",
       "    <tr>\n",
       "      <th>2</th>\n",
       "      <td>2</td>\n",
       "    </tr>\n",
       "    <tr>\n",
       "      <th>3</th>\n",
       "      <td>3</td>\n",
       "    </tr>\n",
       "    <tr>\n",
       "      <th>4</th>\n",
       "      <td>4</td>\n",
       "    </tr>\n",
       "  </tbody>\n",
       "</table>\n",
       "</div>"
      ],
      "text/plain": [
       "   A\n",
       "0  0\n",
       "1  1\n",
       "2  2\n",
       "3  3\n",
       "4  4"
      ]
     },
     "execution_count": 408,
     "metadata": {},
     "output_type": "execute_result"
    }
   ],
   "source": [
    "df = pd.DataFrame(columns=['A'])\n",
    "for i in range(5):\n",
    "    df = df.append({'A': i}, ignore_index=True)\n",
    "df"
   ]
  },
  {
   "cell_type": "markdown",
   "metadata": {},
   "source": [
    "# Getting positions for Bundesländer\n",
    "from openstreetmap API\n",
    "Then plotting number of accidents in a north - south fashion\n",
    "or plotting as in the position of the Bundesländer, with a circle representing the numer of accidents"
   ]
  },
  {
   "cell_type": "markdown",
   "metadata": {},
   "source": [
    "The following includes a shop in Berlin, a bakery, we need the properties:{category: boundary , type:administrative} and then access the feature , geometry, coordinates (9.19 , 50.61 , check if it is long lat or lat long)"
   ]
  },
  {
   "cell_type": "code",
   "execution_count": 7,
   "metadata": {},
   "outputs": [],
   "source": [
    "import requests\n",
    "import json"
   ]
  },
  {
   "cell_type": "code",
   "execution_count": null,
   "metadata": {},
   "outputs": [],
   "source": []
  },
  {
   "cell_type": "code",
   "execution_count": 282,
   "metadata": {},
   "outputs": [
    {
     "data": {
      "text/plain": [
       "{'type': 'Feature',\n",
       " 'properties': {'place_id': 234606145,\n",
       "  'osm_type': 'relation',\n",
       "  'osm_id': 62650,\n",
       "  'display_name': 'Hessen, Deutschland',\n",
       "  'place_rank': 8,\n",
       "  'category': 'boundary',\n",
       "  'type': 'administrative',\n",
       "  'importance': 0.7673228712714227,\n",
       "  'icon': 'https://nominatim.openstreetmap.org/ui/mapicons//poi_boundary_administrative.p.20.png'},\n",
       " 'bbox': [7.7724063, 49.3952611, 10.2364858, 51.657817],\n",
       " 'geometry': {'type': 'Point', 'coordinates': [9.1909725, 50.6118537]}}"
      ]
     },
     "execution_count": 282,
     "metadata": {},
     "output_type": "execute_result"
    }
   ],
   "source": [
    "# response = requests.get('https://nominatim.openstreetmap.org/search?q=Frankfurt+am+Main%2CHesse&format=geojson')\n",
    "response = requests.get('https://nominatim.openstreetmap.org/search?q=Hesse%2CGermany&format=geojson')\n",
    "#Response as JSON print(response.json())\n",
    "d0 = response.json()\n",
    "d1 = json.dumps(d0, sort_keys=True, indent=2)\n",
    "#d0.keys()\n",
    "d0['features'][0]"
   ]
  },
  {
   "cell_type": "code",
   "execution_count": 33,
   "metadata": {},
   "outputs": [],
   "source": [
    "d = response.json() # d as dictionary"
   ]
  },
  {
   "cell_type": "code",
   "execution_count": 48,
   "metadata": {},
   "outputs": [
    {
     "data": {
      "text/plain": [
       "[8.6820917, 50.1106444]"
      ]
     },
     "execution_count": 48,
     "metadata": {},
     "output_type": "execute_result"
    }
   ],
   "source": [
    "d['features'][0]['geometry']['coordinates']"
   ]
  },
  {
   "cell_type": "code",
   "execution_count": 53,
   "metadata": {},
   "outputs": [
    {
     "data": {
      "text/plain": [
       "'boundary'"
      ]
     },
     "execution_count": 53,
     "metadata": {},
     "output_type": "execute_result"
    }
   ],
   "source": [
    "d['features'][0]['properties']['category']"
   ]
  },
  {
   "cell_type": "code",
   "execution_count": 54,
   "metadata": {},
   "outputs": [
    {
     "data": {
      "text/plain": [
       "'administrative'"
      ]
     },
     "execution_count": 54,
     "metadata": {},
     "output_type": "execute_result"
    }
   ],
   "source": [
    "d['features'][0]['properties']['type']"
   ]
  },
  {
   "cell_type": "code",
   "execution_count": null,
   "metadata": {},
   "outputs": [],
   "source": []
  },
  {
   "cell_type": "code",
   "execution_count": 246,
   "metadata": {},
   "outputs": [],
   "source": []
  }
 ],
 "metadata": {
  "kernelspec": {
   "display_name": "Python 3",
   "language": "python",
   "name": "python3"
  },
  "language_info": {
   "codemirror_mode": {
    "name": "ipython",
    "version": 3
   },
   "file_extension": ".py",
   "mimetype": "text/x-python",
   "name": "python",
   "nbconvert_exporter": "python",
   "pygments_lexer": "ipython3",
   "version": "3.8.3"
  }
 },
 "nbformat": 4,
 "nbformat_minor": 4
}
